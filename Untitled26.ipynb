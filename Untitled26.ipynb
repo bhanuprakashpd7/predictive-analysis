{
  "nbformat": 4,
  "nbformat_minor": 0,
  "metadata": {
    "colab": {
      "provenance": [],
      "authorship_tag": "ABX9TyOKWhIdoa6/bTQcAsyMOmbs",
      "include_colab_link": true
    },
    "kernelspec": {
      "name": "python3",
      "display_name": "Python 3"
    },
    "language_info": {
      "name": "python"
    }
  },
  "cells": [
    {
      "cell_type": "markdown",
      "metadata": {
        "id": "view-in-github",
        "colab_type": "text"
      },
      "source": [
        "<a href=\"https://colab.research.google.com/github/bhanuprakashpd7/predictive-analysis/blob/customer-churn/Untitled26.ipynb\" target=\"_parent\"><img src=\"https://colab.research.google.com/assets/colab-badge.svg\" alt=\"Open In Colab\"/></a>"
      ]
    },
    {
      "cell_type": "code",
      "execution_count": 8,
      "metadata": {
        "colab": {
          "base_uri": "https://localhost:8080/"
        },
        "id": "_57wvi4tQ_jS",
        "outputId": "d160aeee-a4a3-455e-d9a0-956e35fb2132"
      },
      "outputs": [
        {
          "output_type": "stream",
          "name": "stdout",
          "text": [
            "   CustomerID  Age  Gender  Tenure  Usage Frequency  Support Calls  \\\n",
            "0           1   22  Female      25               14              4   \n",
            "1           2   41  Female      28               28              7   \n",
            "2           3   47    Male      27               10              2   \n",
            "3           4   35    Male       9               12              5   \n",
            "4           5   53  Female      58               24              9   \n",
            "\n",
            "   Payment Delay Subscription Type Contract Length  Total Spend  \\\n",
            "0             27             Basic         Monthly          598   \n",
            "1             13          Standard         Monthly          584   \n",
            "2             29           Premium          Annual          757   \n",
            "3             17           Premium       Quarterly          232   \n",
            "4              2          Standard          Annual          533   \n",
            "\n",
            "   Last Interaction  Churn  \n",
            "0                 9      1  \n",
            "1                20      0  \n",
            "2                21      0  \n",
            "3                18      0  \n",
            "4                18      0  \n",
            "Index(['CustomerID', 'Age', 'Gender', 'Tenure', 'Usage Frequency',\n",
            "       'Support Calls', 'Payment Delay', 'Subscription Type',\n",
            "       'Contract Length', 'Total Spend', 'Last Interaction', 'Churn'],\n",
            "      dtype='object')\n",
            "Churn\n",
            "0    33881\n",
            "1    30493\n",
            "Name: count, dtype: int64\n",
            "Confusion Matrix:\n",
            "[[5936  857]\n",
            " [ 879 5203]]\n",
            "\n",
            "Classification Report:\n",
            "              precision    recall  f1-score   support\n",
            "\n",
            "           0       0.87      0.87      0.87      6793\n",
            "           1       0.86      0.86      0.86      6082\n",
            "\n",
            "    accuracy                           0.87     12875\n",
            "   macro avg       0.86      0.86      0.86     12875\n",
            "weighted avg       0.87      0.87      0.87     12875\n",
            "\n",
            "ROC-AUC Score: 0.9421\n"
          ]
        }
      ],
      "source": [
        "import pandas as pd\n",
        "from sklearn.model_selection import train_test_split\n",
        "from sklearn.preprocessing import StandardScaler\n",
        "from sklearn.linear_model import LogisticRegression\n",
        "from sklearn.metrics import classification_report, confusion_matrix, roc_auc_score\n",
        "\n",
        "data = pd.read_csv('customer_churn_dataset-testing-master.csv')\n",
        "\n",
        "print(data.head())\n",
        "print(data.columns)\n",
        "print(data['Churn'].value_counts())\n",
        "\n",
        "\n",
        "X = data.drop('Churn', axis=1)\n",
        "y = data['Churn']\n",
        "\n",
        "\n",
        "X = pd.get_dummies(X, drop_first=True)\n",
        "\n",
        "\n",
        "X_train, X_test, y_train, y_test = train_test_split(X, y, test_size=0.2, random_state=42)\n",
        "\n",
        "\n",
        "scaler = StandardScaler()\n",
        "X_train = scaler.fit_transform(X_train)\n",
        "X_test = scaler.transform(X_test)\n",
        "\n",
        "model = LogisticRegression()\n",
        "model.fit(X_train, y_train)\n",
        "\n",
        "y_pred = model.predict(X_test)\n",
        "y_prob = model.predict_proba(X_test)[:, 1]\n",
        "\n",
        "\n",
        "print(\"Confusion Matrix:\")\n",
        "print(confusion_matrix(y_test, y_pred))\n",
        "\n",
        "print(\"\\nClassification Report:\")\n",
        "print(classification_report(y_test, y_pred))\n",
        "\n",
        "roc_auc = roc_auc_score(y_test, y_prob)\n",
        "print(f\"ROC-AUC Score: {roc_auc:.4f}\")"
      ]
    },
    {
      "cell_type": "code",
      "source": [],
      "metadata": {
        "id": "c6t5hGVNV73P"
      },
      "execution_count": null,
      "outputs": []
    }
  ]
}